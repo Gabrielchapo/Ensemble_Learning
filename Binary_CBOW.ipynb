{
  "cells": [
    {
      "cell_type": "markdown",
      "metadata": {
        "id": "AxY_LEiGOpTp"
      },
      "source": [
        "## Imports"
      ]
    },
    {
      "cell_type": "code",
      "execution_count": null,
      "metadata": {
        "id": "TTrmGBilOpTt"
      },
      "outputs": [],
      "source": [
        "# Basics\n",
        "import numpy as np\n",
        "import pandas as pd\n",
        "import matplotlib\n",
        "import matplotlib.pyplot as plt\n",
        "\n",
        "# Word Embedding\n",
        "import gensim\n",
        "from nltk.stem import PorterStemmer\n",
        "\n",
        "# Preprocessing\n",
        "from sklearn.model_selection import train_test_split\n",
        "import nltk\n",
        "from nltk.stem import PorterStemmer, WordNetLemmatizer\n",
        "from nltk.corpus import stopwords\n",
        "from nltk.stem.porter import *\n",
        "\n",
        "\n",
        "# Sklearn models\n",
        "from sklearn.ensemble import RandomForestClassifier, BaggingClassifier, AdaBoostClassifier, GradientBoostingClassifier\n",
        "from sklearn.tree import DecisionTreeClassifier\n",
        "\n",
        "from sklearn.model_selection import GridSearchCV\n",
        "from sklearn.pipeline import Pipeline\n",
        "\n",
        "\n"
      ]
    },
    {
      "cell_type": "markdown",
      "metadata": {
        "id": "sLAXb8X2OpTu"
      },
      "source": [
        "## Dataset preprocessing"
      ]
    },
    {
      "cell_type": "code",
      "execution_count": null,
      "metadata": {
        "id": "EuANEFs_OpTv"
      },
      "outputs": [],
      "source": [
        "df = pd.read_csv(\"cyberbullying_tweets.csv\")"
      ]
    },
    {
      "cell_type": "code",
      "execution_count": null,
      "metadata": {
        "colab": {
          "base_uri": "https://localhost:8080/",
          "height": 385
        },
        "id": "Weu0nV0BW2ak",
        "outputId": "bed372b2-9cab-4fb6-b630-c69f65246f63"
      },
      "outputs": [
        {
          "data": {
            "image/png": "[encoded data removed]",
            "text/plain": [
              "<Figure size 432x288 with 1 Axes>"
            ]
          },
          "metadata": {},
          "output_type": "display_data"
        }
      ],
      "source": [
        "index = df.cyberbullying_type.value_counts().index.tolist()\n",
        "values = df.cyberbullying_type.value_counts().values.tolist()\n",
        "\n",
        "plt.bar(index, values, facecolor='g', alpha=0.75)\n",
        "\n",
        "plt.xlabel('Types')\n",
        "plt.ylabel('Counts')\n",
        "plt.title('Number of tweets for each cyberbullying type')\n",
        "# Rotation of the bar names\n",
        "plt.xticks(index, rotation=90)\n",
        "# plt.subplot_adjust(bottom=0.01, top=0.99)\n",
        "\n",
        "plt.grid(True)\n",
        "plt.show()"
      ]
    },
    {
      "cell_type": "markdown",
      "metadata": {
        "id": "48cGSkNaOpTv"
      },
      "source": [
        "### Creation of the label array"
      ]
    },
    {
      "cell_type": "code",
      "execution_count": null,
      "metadata": {
        "id": "x-Nj6oQjOpTv"
      },
      "outputs": [],
      "source": [
        "types = {'age':0,\n",
        "         'ethnicity':0,\n",
        "         'gender':0,\n",
        "         'not_cyberbullying':1,\n",
        "         'other_cyberbullying':0,\n",
        "         'religion':0}\n",
        "\n",
        "\n",
        "Y = df.iloc[::,1].to_numpy()\n",
        "Y = [types[y] for y in Y]\n",
        "Y = np.reshape(Y, (len(Y), 1))\n",
        "X = df.iloc[::,0].to_numpy()\n",
        "\n",
        "\n",
        "X = [''.join(item.lower() for item in x if item.isalpha() or item == \" \") for x in X]\n",
        "X = [x.split(\" \") for x in X] \n"
      ]
    },
    {
      "cell_type": "markdown",
      "metadata": {
        "id": "potmvqgxRCmj"
      },
      "source": [
        "\n",
        "\n",
        "### Stemming / Lemmetising"
      ]
    },
    {
      "cell_type": "code",
      "execution_count": null,
      "metadata": {
        "colab": {
          "base_uri": "https://localhost:8080/"
        },
        "id": "_5TjWV-cQ_Df",
        "outputId": "9c643f43-2f24-48e3-b769-66012d09402c"
      },
      "outputs": [
        {
          "name": "stdout",
          "output_type": "stream",
          "text": [
            "[nltk_data] Downloading package wordnet to /root/nltk_data...\n",
            "[nltk_data]   Unzipping corpora/wordnet.zip.\n",
            "[nltk_data] Downloading package stopwords to /root/nltk_data...\n",
            "[nltk_data]   Unzipping corpora/stopwords.zip.\n"
          ]
        }
      ],
      "source": [
        "nltk.download('wordnet')\n",
        "nltk.download('stopwords')\n",
        "\n",
        "### PARAMETERS ###\n",
        "# if stemming, else lemmatizing words\n",
        "use_stemm = True\n",
        "# dimension vectors needed\n",
        "dimension_selected = 100\n",
        "\n",
        "##################\n",
        "# stop words\n",
        "list_stp_wrd = stopwords.words('english')\n",
        "\n",
        "# Init the Wordnet Lemmatizer\n",
        "lemmatizer = WordNetLemmatizer()\n",
        "\n",
        "# Init stemmer\n",
        "stemmer = PorterStemmer()\n",
        "# set were we get the new dataset with lemmatize words\n",
        "lemmatize_X = []\n",
        "\n",
        "#for each sentence (list of word)\n",
        "mapping = [ ('\\d+', ''), ('https?:', ''), ('http?:', '') ]\n",
        "for sentence_wrd in X:\n",
        "\n",
        "    # Tokenisation, here we keep only alphabetic values for the moment\n",
        "    sentence_wrd = [x  for x in sentence_wrd if x not in list_stp_wrd]\n",
        "\n",
        "    # Tokenisation, here we eliminate mentions\n",
        "    sentence_wrd = [x  for x in sentence_wrd if not x.startswith('@')]\n",
        "\n",
        "    # Tokenisation, here we eliminate links\n",
        "    for k, v in mapping:\n",
        "        sentence_wrd = str(sentence_wrd).replace(k, v)\n",
        "        \n",
        "    # we lemmatize each wrd\n",
        "    if use_stemm:\n",
        "        # stemming if necessary\n",
        "        lemm_sentence_wrd = [stemmer.stem(wrd) for wrd in sentence_wrd]\n",
        "    else:\n",
        "        # else lemmatize\n",
        "        lemm_sentence_wrd = [lemmatizer.lemmatize(wrd) for wrd in sentence_wrd]\n",
        "        \n",
        "    lemmatize_X.append(lemm_sentence_wrd)"
      ]
    },
    {
      "cell_type": "code",
      "execution_count": null,
      "metadata": {
        "id": "18k3sKT3X3uK"
      },
      "outputs": [],
      "source": [
        ""
      ]
    },
    {
      "cell_type": "markdown",
      "metadata": {
        "id": "DiZNRsKHOpTw"
      },
      "source": [
        "### Creation of the input array"
      ]
    },
    {
      "cell_type": "code",
      "execution_count": null,
      "metadata": {
        "colab": {
          "base_uri": "https://localhost:8080/"
        },
        "id": "1pSYF3LXOpTx",
        "outputId": "e4c0f17b-640a-40ae-90f7-cb1cc9387d08"
      },
      "outputs": [
        {
          "data": {
            "text/plain": [
              "(17150612, 22638920)"
            ]
          },
          "execution_count": 7,
          "metadata": {},
          "output_type": "execute_result"
        }
      ],
      "source": [
        "# size of the Embedded array\n",
        "embbed_size = 25\n",
        "\n",
        "cbow = gensim.models.Word2Vec(\n",
        "            X,\n",
        "            size=embbed_size, # desired no. of features/independent variables\n",
        "            window=8, # context window size\n",
        "            min_count=2, # Ignores all words with total frequency lower than 2.                                  \n",
        "            sg = 0, # 0 for cbow\n",
        "            hs = 0, # to enable negative sampling\n",
        "            negative = 10, # for negative sampling\n",
        "            cbow_mean = 1, # use the mean instead of the sum\n",
        "            workers= 32, # no.of cores\n",
        "            seed = 42) \n",
        "\n",
        "cbow.train(X, total_examples=len(X), epochs=20)"
      ]
    },
    {
      "cell_type": "markdown",
      "metadata": {
        "id": "tA2Lx6nnOpTy"
      },
      "source": [
        "### Sentence Embedding"
      ]
    },
    {
      "cell_type": "code",
      "execution_count": null,
      "metadata": {
        "colab": {
          "base_uri": "https://localhost:8080/"
        },
        "id": "_1A7YszcOpTz",
        "outputId": "51c94df7-c2f9-441b-e5bc-b9dba46e2f1e"
      },
      "outputs": [
        {
          "data": {
            "text/plain": [
              "(47692, 25)"
            ]
          },
          "execution_count": 8,
          "metadata": {},
          "output_type": "execute_result"
        }
      ],
      "source": [
        "# A sentence is represented by the mean of the words embedding it contains\n",
        "def word_vector(tokens, size):\n",
        "    vec = np.zeros(size).reshape((1, size))\n",
        "    count = 0\n",
        "    for word in tokens:\n",
        "        try:\n",
        "            vec += cbow.wv[word].reshape((1, size))\n",
        "            count += 1.\n",
        "        except KeyError:\n",
        "            continue\n",
        "    if count != 0:\n",
        "        vec /= count\n",
        "    return vec\n",
        "\n",
        "wordvec_arrays = np.zeros((len(X), embbed_size)) \n",
        "for i in range(len(X)):\n",
        "    wordvec_arrays[i,:] = word_vector(X[i], embbed_size)\n",
        "wordvec_df = pd.DataFrame(wordvec_arrays)\n",
        "wordvec_df.shape\n"
      ]
    },
    {
      "cell_type": "code",
      "execution_count": null,
      "metadata": {
        "id": "n1g84HYOOpT0"
      },
      "outputs": [],
      "source": [
        ""
      ]
    },
    {
      "cell_type": "markdown",
      "metadata": {
        "id": "Z6ENRnOpOpT4"
      },
      "source": [
        "## Training"
      ]
    },
    {
      "cell_type": "code",
      "execution_count": null,
      "metadata": {
        "id": "ZmFGFXISaD46"
      },
      "outputs": [],
      "source": [
        "X_train, X_test, y_train, y_test = train_test_split(wordvec_df, Y, test_size=0.30, random_state=42)\n",
        "X_train = X_train.values.tolist()\n",
        "X_test = X_test.values.tolist()"
      ]
    },
    {
      "cell_type": "markdown",
      "metadata": {
        "id": "WmVX6jh0OpTz"
      },
      "source": [
        "## Models"
      ]
    },
    {
      "cell_type": "code",
      "execution_count": null,
      "metadata": {
        "id": "SN25PY9RajKG"
      },
      "outputs": [],
      "source": [
        "def display_top(results):\n",
        "\n",
        "  results_df = pd.DataFrame(results)\n",
        "  results_df = results_df.sort_values(by=[\"rank_test_score\"])\n",
        "  results_df = results_df.set_index(\n",
        "      results_df[\"params\"].apply(lambda x: \"_\".join(str(val) for val in x.values()))\n",
        "      ).rename_axis(\"kernel\")\n",
        "  top = results_df[[ \"rank_test_score\", \"mean_test_score\", \"std_test_score\"]]\n",
        "\n",
        "  print(top[:10])"
      ]
    },
    {
      "cell_type": "markdown",
      "metadata": {
        "id": "wIcZEmVwOpT4"
      },
      "source": [
        "### sklearn - Decision Tree"
      ]
    },
    {
      "cell_type": "code",
      "execution_count": null,
      "metadata": {
        "colab": {
          "base_uri": "https://localhost:8080/"
        },
        "id": "yRYvGT5gOpT4",
        "outputId": "dbe35671-07d3-461e-b25c-d799936e98f9"
      },
      "outputs": [
        {
          "name": "stdout",
          "output_type": "stream",
          "text": [
            "Best model:  \n",
            " Max Depth =  8 \n",
            " Min Samples Split =  2 \n",
            " Min Samples Leaf =  2\n",
            "Best DT model score:  0.8489656136427174\n",
            "the best Models: \n",
            "\n",
            "        rank_test_score  mean_test_score  std_test_score\n",
            "kernel                                                  \n",
            "8_2_2                 1         0.852055        0.002139\n",
            "8_2_3                 1         0.852055        0.002139\n",
            "8_2_4                 1         0.852055        0.002139\n",
            "8_4_2                 4         0.851845        0.002570\n",
            "8_4_3                 4         0.851845        0.002570\n",
            "8_4_4                 4         0.851845        0.002570\n",
            "8_6_2                 7         0.851845        0.002151\n",
            "8_6_3                 7         0.851845        0.002151\n",
            "8_6_4                 7         0.851845        0.002151\n",
            "10_2_2               10         0.844716        0.003548\n"
          ]
        }
      ],
      "source": [
        "dt = DecisionTreeClassifier(random_state=42)\n",
        "DT = Pipeline([('dt', dt)])\n",
        "\n",
        "\n",
        "parameters = {\n",
        "              'dt__max_depth': [8, 10, 12],\n",
        "              'dt__min_samples_split': [2, 3, 4],\n",
        "              'dt__min_samples_leaf': [2, 4, 6]\n",
        "              }\n",
        "\n",
        "\n",
        "      \n",
        "grid_DT = GridSearchCV(DT, parameters, verbose=0, return_train_score=True)\n",
        "grid_DT = grid_DT.fit(X_train, y_train)\n",
        "\n",
        "\n",
        "best_par = grid_DT.best_estimator_.get_params()\n",
        "\n",
        "print(\"Best model: \",\n",
        "      '\\n Max Depth = ', best_par['dt__max_depth'],\n",
        "      '\\n Min Samples Split = ', best_par['dt__min_samples_split'],\n",
        "      '\\n Min Samples Leaf = ', best_par['dt__min_samples_leaf']\n",
        "      )\n",
        "\n",
        "best_score = grid_DT.score(X_test, y_test)\n",
        "print(\"Best DT model score: \", best_score)\n",
        "\n",
        "results = grid_DT.cv_results_\n",
        "print(\"the best Models: \\n\")\n",
        "display_top(results)"
      ]
    },
    {
      "cell_type": "markdown",
      "metadata": {
        "id": "OZDp65DaOpT5"
      },
      "source": [
        "### sklearn - Random Forest"
      ]
    },
    {
      "cell_type": "code",
      "execution_count": null,
      "metadata": {
        "colab": {
          "base_uri": "https://localhost:8080/"
        },
        "id": "nU0LHRDfOpT5",
        "outputId": "aa76eb0b-2672-451d-c0b0-3a2cf0962a63"
      },
      "outputs": [
        {
          "name": "stdout",
          "output_type": "stream",
          "text": [
            "Best model:  \n",
            " Number of Estimators =  70\n",
            "Best RF model score:  0.8581912216941571\n",
            "The best Models: \n",
            "\n",
            "             rank_test_score  mean_test_score  std_test_score\n",
            "kernel                                                       \n",
            "10_10_2_70                 1         0.861011        0.001558\n",
            "10_6_4_70                  2         0.861011        0.001404\n",
            "10_10_6_70                 3         0.860862        0.002218\n",
            "10_6_2_100                 4         0.860862        0.001999\n",
            "10_10_6_100                5         0.860832        0.001633\n",
            "10_10_4_100                6         0.860832        0.001786\n",
            "15_10_4_100                7         0.860742        0.001093\n",
            "10_4_6_100                 8         0.860712        0.001964\n",
            "10_4_4_70                  9         0.860712        0.002083\n",
            "15_10_4_70                10         0.860712        0.002111\n"
          ]
        }
      ],
      "source": [
        "rf = RandomForestClassifier()\n",
        "\n",
        "RF = Pipeline([('rf', rf)])\n",
        "\n",
        "parameters = {\n",
        "              'rf__n_estimators': [70, 100],\n",
        "              'rf__max_depth': [10, 15, 20],\n",
        "              'rf__min_samples_leaf': [4, 6, 10],\n",
        "              'rf__min_samples_split': [2, 4, 6],\n",
        "              }\n",
        "\n",
        "\n",
        "grid_RF = GridSearchCV(RF, parameters, verbose=0, return_train_score=True)\n",
        "grid_RF = grid_RF.fit(X_train, y_train.ravel())\n",
        "\n",
        "\n",
        "best_par = grid_RF.best_estimator_.get_params()\n",
        "\n",
        "print(\"Best model: \",\n",
        "      '\\n Number of Estimators = ', best_par['rf__n_estimators']\n",
        "      )\n",
        "\n",
        "best_score = grid_RF.score(X_test, y_test.ravel())\n",
        "print(\"Best RF model score: \", best_score)\n",
        "\n",
        "results = grid_RF.cv_results_\n",
        "print(\"The best Models: \\n\")\n",
        "display_top(results)"
      ]
    },
    {
      "cell_type": "code",
      "execution_count": null,
      "metadata": {
        "colab": {
          "background_save": true
        },
        "id": "WObIKp9yFhYA",
        "outputId": "4d23ab96-8c0d-41a6-bab7-dd30dc4fa749"
      },
      "outputs": [
        {
          "name": "stdout",
          "output_type": "stream",
          "text": [
            "Best model:  \n",
            " Number of Estimators =  70 \n",
            " Max Depth =  10 \n",
            " Min samples leaf =  15 \n",
            " Min amples split =  2\n",
            "Best RF model score:  0.8572826390830305\n",
            "The best Models: \n",
            "\n",
            "            rank_test_score  mean_test_score  std_test_score\n",
            "kernel                                                      \n",
            "10_15_2_70                1         0.860832        0.002276\n",
            "10_10_2_70                2         0.860772        0.001650\n",
            "10_10_4_50                3         0.860742        0.001783\n",
            "10_15_2_50                4         0.860712        0.002043\n",
            "10_15_4_70                5         0.860622        0.001575\n",
            "10_10_2_50                6         0.860532        0.001555\n",
            "10_8_4_70                 7         0.860502        0.002312\n",
            "10_15_4_50                8         0.860382        0.001866\n",
            "10_8_2_50                 9         0.860262        0.001760\n",
            "10_8_2_70                10         0.860262        0.000985\n"
          ]
        }
      ],
      "source": [
        "rf = RandomForestClassifier()\n",
        "\n",
        "RF = Pipeline([('rf', rf)])\n",
        "\n",
        "parameters = {\n",
        "              'rf__n_estimators': [50, 70],\n",
        "              'rf__max_depth': [5, 8, 10],\n",
        "              'rf__min_samples_leaf': [8, 10, 15],\n",
        "              'rf__min_samples_split': [2, 4],\n",
        "              }\n",
        "\n",
        "\n",
        "grid_RF2 = GridSearchCV(RF, parameters, verbose=0, return_train_score=True)\n",
        "grid_RF2 = grid_RF2.fit(X_train, y_train.ravel())\n",
        "\n",
        "\n",
        "best_par = grid_RF2.best_estimator_.get_params()\n",
        "\n",
        "print(\"Best model: \",\n",
        "      '\\n Number of Estimators = ', best_par['rf__n_estimators'],\n",
        "      '\\n Max Depth = ', best_par['rf__max_depth'],     \n",
        "      '\\n Min samples leaf = ', best_par['rf__min_samples_leaf'],\n",
        "      '\\n Min amples split = ', best_par['rf__min_samples_split'],\n",
        "      )\n",
        "\n",
        "best_score = grid_RF2.score(X_test, y_test.ravel())\n",
        "print(\"Best RF model score: \", best_score)\n",
        "\n",
        "results = grid_RF2.cv_results_\n",
        "print(\"The best Models: \\n\")\n",
        "display_top(results)"
      ]
    },
    {
      "cell_type": "code",
      "execution_count": null,
      "metadata": {
        "id": "g2ClBzxiCxOt",
        "colab": {
          "base_uri": "https://localhost:8080/"
        },
        "outputId": "7409cf58-63e7-4906-9b69-14c576a33c72"
      },
      "outputs": [
        {
          "output_type": "stream",
          "name": "stdout",
          "text": [
            "Best model:  \n",
            " Number of Estimators =  70 \n",
            " Max Depth =  10 \n",
            " Min samples leaf =  12 \n",
            " Min amples split =  4\n",
            "Best RF model score:  0.8571428571428571\n",
            "The best Models: \n",
            "\n",
            "            rank_test_score  mean_test_score  std_test_score\n",
            "kernel                                                      \n",
            "10_12_4_70                1         0.861341        0.001870\n",
            "13_20_2_70                2         0.861311        0.001641\n",
            "10_15_2_70                3         0.861251        0.001681\n",
            "13_12_2_70                4         0.861191        0.001906\n",
            "13_15_4_70                5         0.861161        0.001953\n",
            "13_15_2_70                6         0.861131        0.001964\n",
            "10_15_4_70                7         0.860921        0.001745\n",
            "13_20_4_70                8         0.860891        0.001932\n",
            "13_12_4_70                9         0.860772        0.001440\n",
            "10_20_2_70               10         0.860472        0.001941\n"
          ]
        }
      ],
      "source": [
        "rf = RandomForestClassifier()\n",
        "\n",
        "RF = Pipeline([('rf', rf)])\n",
        "\n",
        "parameters = {\n",
        "              'rf__n_estimators': [70],\n",
        "              'rf__max_depth': [10, 13],\n",
        "              'rf__min_samples_leaf': [12, 15, 20],\n",
        "              'rf__min_samples_split': [2, 4],\n",
        "              }\n",
        "\n",
        "\n",
        "grid_RF2 = GridSearchCV(RF, parameters, verbose=0, return_train_score=True)\n",
        "grid_RF2 = grid_RF2.fit(X_train, y_train.ravel())\n",
        "\n",
        "\n",
        "best_par = grid_RF2.best_estimator_.get_params()\n",
        "\n",
        "print(\"Best model: \",\n",
        "      '\\n Number of Estimators = ', best_par['rf__n_estimators'],\n",
        "      '\\n Max Depth = ', best_par['rf__max_depth'],     \n",
        "      '\\n Min samples leaf = ', best_par['rf__min_samples_leaf'],\n",
        "      '\\n Min amples split = ', best_par['rf__min_samples_split'],\n",
        "      )\n",
        "\n",
        "best_score = grid_RF2.score(X_test, y_test.ravel())\n",
        "print(\"Best RF model score: \", best_score)\n",
        "\n",
        "results = grid_RF2.cv_results_\n",
        "print(\"The best Models: \\n\")\n",
        "display_top(results)"
      ]
    },
    {
      "cell_type": "code",
      "source": [
        "rf = RandomForestClassifier()\n",
        "\n",
        "RF = Pipeline([('rf', rf)])\n",
        "\n",
        "parameters = {\n",
        "              'rf__n_estimators': [70],\n",
        "              'rf__max_depth': [10, 11],\n",
        "              'rf__min_samples_leaf': [13, 14]\n",
        "              }\n",
        "\n",
        "\n",
        "grid_RF2 = GridSearchCV(RF, parameters, verbose=0, return_train_score=True)\n",
        "grid_RF2 = grid_RF2.fit(X_train, y_train.ravel())\n",
        "\n",
        "\n",
        "best_par = grid_RF2.best_estimator_.get_params()\n",
        "\n",
        "print(\"Best model: \",\n",
        "      '\\n Number of Estimators = ', best_par['rf__n_estimators'],\n",
        "      '\\n Max Depth = ', best_par['rf__max_depth'],     \n",
        "      '\\n Min samples leaf = ', best_par['rf__min_samples_leaf'],\n",
        "      '\\n Min amples split = ', best_par['rf__min_samples_split'],\n",
        "      )\n",
        "\n",
        "best_score = grid_RF2.score(X_test, y_test.ravel())\n",
        "print(\"Best RF model score: \", best_score)\n",
        "\n",
        "results = grid_RF2.cv_results_\n",
        "print(\"The best Models: \\n\")\n",
        "display_top(results)"
      ],
      "metadata": {
        "colab": {
          "base_uri": "https://localhost:8080/"
        },
        "id": "3gvxd1esiW9u",
        "outputId": "d3038982-2b8b-4bf7-b770-34f2ed33ee7d"
      },
      "execution_count": null,
      "outputs": [
        {
          "output_type": "stream",
          "name": "stdout",
          "text": [
            "Best model:  \n",
            " Number of Estimators =  70 \n",
            " Max Depth =  11 \n",
            " Min samples leaf =  13 \n",
            " Min amples split =  2\n",
            "Best RF model score:  0.8572826390830305\n",
            "The best Models: \n",
            "\n",
            "          rank_test_score  mean_test_score  std_test_score\n",
            "kernel                                                    \n",
            "11_13_70                1         0.861161        0.002144\n",
            "11_14_70                2         0.860921        0.001673\n",
            "10_14_70                3         0.860682        0.001539\n",
            "10_13_70                4         0.860143        0.002225\n"
          ]
        }
      ]
    },
    {
      "cell_type": "markdown",
      "metadata": {
        "id": "qZRKVxSlOpT5"
      },
      "source": [
        "### sklearn - Bagging"
      ]
    },
    {
      "cell_type": "code",
      "execution_count": null,
      "metadata": {
        "id": "ar0KjfxIC0CV"
      },
      "outputs": [],
      "source": [
        ""
      ]
    },
    {
      "cell_type": "code",
      "execution_count": null,
      "metadata": {
        "colab": {
          "base_uri": "https://localhost:8080/"
        },
        "id": "e591lUu4dQTz",
        "outputId": "bd0ef4e9-e6fd-466f-f384-03476c190f1b"
      },
      "outputs": [
        {
          "name": "stdout",
          "output_type": "stream",
          "text": [
            "Best model:  \n",
            " Number of Estimators =  150 \n",
            " Max Samples =  0.4 \n",
            " Max features =  0.8\n",
            "Best BAG model score:  0.848825831702544\n",
            "The best Models: \n",
            "\n",
            "             rank_test_score  mean_test_score  std_test_score\n",
            "kernel                                                       \n",
            "0.8_0.4_150                1         0.854691        0.002002\n",
            "0.8_0.4_100                2         0.854002        0.002114\n",
            "0.4_0.4_150                3         0.851246        0.002842\n",
            "0.4_0.4_100                4         0.850617        0.001473\n",
            "0.8_0.8_100                5         0.849838        0.000986\n",
            "0.8_0.8_150                6         0.848610        0.001727\n",
            "0.4_0.8_150                7         0.845165        0.002099\n",
            "0.4_0.8_100                8         0.845016        0.001749\n"
          ]
        }
      ],
      "source": [
        "from sklearn.ensemble import BaggingClassifier\n",
        "\n",
        "\n",
        "bag = BaggingClassifier(DecisionTreeClassifier()) #, max_samples=0.5, n_estimators=100)\n",
        "\n",
        "BAG = Pipeline([\n",
        "               ('bag', bag)])\n",
        "\n",
        "parameters = {'bag__n_estimators': [100, 150],\n",
        "              'bag__max_samples': [0.4, 0.8],\n",
        "              'bag__max_features': [0.4, 0.8],\n",
        "              }\n",
        "\n",
        "\n",
        "\n",
        "grid_BAG = GridSearchCV(BAG, parameters, verbose=0, return_train_score=True)\n",
        "grid_BAG = grid_BAG.fit(X_train, y_train.ravel())\n",
        "\n",
        "best_par = grid_BAG.best_estimator_.get_params()\n",
        "\n",
        "print(\"Best model: \",\n",
        "      '\\n Number of Estimators = ', best_par['bag__n_estimators'],\n",
        "      '\\n Max Samples = ', best_par['bag__max_samples'],\n",
        "      '\\n Max features = ', best_par['bag__max_features'],      \n",
        "      )\n",
        "\n",
        "best_score = grid_BAG.score(X_test, y_test.ravel())\n",
        "print(\"Best BAG model score: \", best_score)\n",
        "\n",
        "results = grid_BAG.cv_results_\n",
        "print(\"The best Models: \\n\")\n",
        "display_top(results)"
      ]
    },
    {
      "cell_type": "code",
      "source": [
        "from sklearn.ensemble import BaggingClassifier\n",
        "\n",
        "\n",
        "bag = BaggingClassifier(DecisionTreeClassifier()) #, max_samples=0.5, n_estimators=100)\n",
        "\n",
        "BAG = Pipeline([\n",
        "               ('bag', bag)])\n",
        "\n",
        "parameters = {'bag__n_estimators': [150],\n",
        "              'bag__max_samples': [0.3, 0.2],\n",
        "              'bag__max_features': [10, 1],\n",
        "              }\n",
        "\n",
        "\n",
        "\n",
        "grid_BAG = GridSearchCV(BAG, parameters, verbose=0, return_train_score=True)\n",
        "grid_BAG = grid_BAG.fit(X_train, y_train.ravel())\n",
        "\n",
        "best_par = grid_BAG.best_estimator_.get_params()\n",
        "\n",
        "print(\"Best model: \",\n",
        "      '\\n Number of Estimators = ', best_par['bag__n_estimators'],\n",
        "      '\\n Max Samples = ', best_par['bag__max_samples'],\n",
        "      '\\n Max features = ', best_par['bag__max_features'],      \n",
        "      )\n",
        "\n",
        "best_score = grid_BAG.score(X_test, y_test.ravel())\n",
        "print(\"Best BAG model score: \", best_score)\n",
        "\n",
        "results = grid_BAG.cv_results_\n",
        "print(\"The best Models: \\n\")\n",
        "display_top(results)"
      ],
      "metadata": {
        "colab": {
          "base_uri": "https://localhost:8080/"
        },
        "id": "E3wpHULobEhr",
        "outputId": "e9993702-876a-48bc-b45b-8b05b0a63cb2"
      },
      "execution_count": null,
      "outputs": [
        {
          "output_type": "stream",
          "name": "stdout",
          "text": [
            "Best model:  \n",
            " Number of Estimators =  150 \n",
            " Max Samples =  0.2 \n",
            " Max features =  10\n",
            "Best BAG model score:  0.852390271176964\n",
            "The best Models: \n",
            "\n",
            "            rank_test_score  mean_test_score  std_test_score\n",
            "kernel                                                      \n",
            "10_0.2_150                1         0.857956        0.000865\n",
            "10_0.3_150                2         0.855290        0.001701\n",
            "1_0.2_150                 3         0.836778        0.000250\n",
            "1_0.3_150                 4         0.836718        0.000249\n"
          ]
        }
      ]
    },
    {
      "cell_type": "markdown",
      "metadata": {
        "id": "kd-YygghdRKj"
      },
      "source": [
        "### sklearn - Gradient Boosting"
      ]
    },
    {
      "cell_type": "code",
      "execution_count": null,
      "metadata": {
        "colab": {
          "base_uri": "https://localhost:8080/"
        },
        "id": "a3CTyIh_dRKj",
        "outputId": "8ba592ab-ae6d-44fa-e638-725841a14445"
      },
      "outputs": [
        {
          "name": "stdout",
          "output_type": "stream",
          "text": [
            "Best Gradient Boosting Classifier model:  \n",
            " Number of Estimators =  150\n",
            "Best Gradient Boosting Classifier model score:  0.7567095331283198\n",
            "The best Models: \n",
            "\n",
            "         rank_test_score  mean_test_score  std_test_score\n",
            "kernel                                                   \n",
            "0.1_150                1         0.761772        0.003309\n",
            "0.1_100                2         0.757039        0.002938\n",
            "1_100                  3         0.733375        0.004281\n",
            "1_150                  4         0.731818        0.005670\n"
          ]
        }
      ],
      "source": [
        "\n",
        "gbc = GradientBoostingClassifier() \n",
        "GBC = Pipeline([\n",
        "               ('gbc', gbc)])\n",
        "\n",
        "\n",
        "parameters = {\n",
        "              'gbc__n_estimators': [100, 150],\n",
        "              'gbc__learning_rate' : [0.1, 1]              \n",
        "              }\n",
        "\n",
        "\n",
        "\n",
        "grid_GBC = GridSearchCV(GBC, parameters, verbose=0, return_train_score=True)\n",
        "grid_GBC = grid_GBC.fit(X_train, y_train.ravel())\n",
        "\n",
        "\n",
        "best_par = grid_GBC.best_estimator_.get_params()\n",
        "\n",
        "print(\"Best Gradient Boosting Classifier model: \",\n",
        "      '\\n Number of Estimators = ', best_par['gbc__n_estimators']\n",
        "      )\n",
        "\n",
        "best_score = grid_GBC.score(X_test, y_test.ravel())\n",
        "print(\"Best Gradient Boosting Classifier model score: \", best_score)\n",
        "\n",
        "results_gbc = grid_GBC.cv_results_\n",
        "print(\"The best Models: \\n\")\n",
        "display_top(results_gbc)"
      ]
    },
    {
      "cell_type": "markdown",
      "metadata": {
        "id": "TFG9KTSFdRWk"
      },
      "source": [
        "### sklearn - ADA Boost"
      ]
    },
    {
      "cell_type": "code",
      "execution_count": null,
      "metadata": {
        "colab": {
          "base_uri": "https://localhost:8080/"
        },
        "id": "xxx8wSqEdRWl",
        "outputId": "e3382130-36b2-4f0f-b657-2eaa554e8db6"
      },
      "outputs": [
        {
          "name": "stdout",
          "output_type": "stream",
          "text": [
            "Best model:  \n",
            " Number of Estimators =  150\n",
            "Best AdaBoost model score:  0.7456667598546268\n",
            "The Best Models: \n",
            "\n",
            "         rank_test_score  mean_test_score  std_test_score\n",
            "kernel                                                   \n",
            "1_150                  1         0.756171        0.001924\n",
            "1_100                  2         0.753235        0.003496\n",
            "0.1_150                3         0.739606        0.007658\n",
            "0.1_100                4         0.720645        0.014811\n"
          ]
        }
      ],
      "source": [
        "from sklearn.ensemble import AdaBoostClassifier\n",
        "\n",
        "ada = AdaBoostClassifier(DecisionTreeClassifier()) \n",
        "\n",
        "ADA = Pipeline([\n",
        "               ('ada', ada)])\n",
        "\n",
        "\n",
        "parameters = {\n",
        "              'ada__n_estimators': [100, 150],\n",
        "              'ada__learning_rate' : [0.1, 1]              \n",
        "              }\n",
        "\n",
        "\n",
        "\n",
        "grid_ADA = GridSearchCV(ADA, parameters, verbose=0, return_train_score=True)\n",
        "grid_ADA = grid_ADA.fit(X_train, y_train.ravel())\n",
        "\n",
        "\n",
        "best_par = grid_ADA.best_estimator_.get_params()\n",
        "\n",
        "print(\"Best model: \",\n",
        "      '\\n Number of Estimators = ', best_par['ada__n_estimators']\n",
        "      )\n",
        "\n",
        "best_score = grid_ADA.score(X_test, y_test.ravel())\n",
        "print(\"Best AdaBoost model score: \", best_score)\n",
        "\n",
        "results_ada = grid_ADA.cv_results_\n",
        "print(\"The Best Models: \\n\")\n",
        "display_top(results_ada)"
      ]
    },
    {
      "cell_type": "code",
      "execution_count": null,
      "metadata": {
        "id": "ghuYbp9wdRhP"
      },
      "outputs": [],
      "source": [
        ""
      ]
    },
    {
      "cell_type": "code",
      "execution_count": null,
      "metadata": {
        "id": "Pxp0TZAidRnW"
      },
      "outputs": [],
      "source": [
        ""
      ]
    },
    {
      "cell_type": "code",
      "execution_count": null,
      "metadata": {
        "id": "fDMguWduOpT6"
      },
      "outputs": [],
      "source": [
        ""
      ]
    }
  ],
  "metadata": {
    "colab": {
      "collapsed_sections": [],
      "name": "Binary_CBOW.ipynb",
      "provenance": []
    },
    "interpreter": {
      "hash": "07429fcb4c504a0378980367d3c7fce80391802e4a36d1633a5a7bb6cd53a327"
    },
    "kernelspec": {
      "display_name": "Python 3.8.8 ('base')",
      "language": "python",
      "name": "python3"
    },
    "language_info": {
      "codemirror_mode": {
        "name": "ipython",
        "version": 3
      },
      "file_extension": ".py",
      "mimetype": "text/x-python",
      "name": "python",
      "nbconvert_exporter": "python",
      "pygments_lexer": "ipython3",
      "version": "3.8.8"
    }
  },
  "nbformat": 4,
  "nbformat_minor": 0
}