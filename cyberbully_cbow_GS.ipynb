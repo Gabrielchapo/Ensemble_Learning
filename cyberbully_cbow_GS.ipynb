{
  "cells": [
    {
      "cell_type": "code",
      "execution_count": null,
      "metadata": {
        "id": "ZZAsu1kYQ3JD"
      },
      "outputs": [],
      "source": [
        "from sklearn.model_selection import train_test_split\n",
        "import numpy as np\n",
        "from sklearn import tree\n",
        "import pandas as pd\n",
        "from sklearn.feature_extraction.text import TfidfVectorizer, CountVectorizer \n",
        "import gensim\n",
        "from sklearn.ensemble import RandomForestClassifier\n",
        "from sklearn.model_selection import GridSearchCV\n",
        "from sklearn.pipeline import Pipeline"
      ]
    },
    {
      "cell_type": "code",
      "execution_count": null,
      "metadata": {
        "colab": {
          "base_uri": "https://localhost:8080/"
        },
        "id": "910ZCrJQQ3JG",
        "outputId": "6e881043-65b1-4cd9-b963-f49300ecc06d"
      },
      "outputs": [
        {
          "data": {
            "text/plain": [
              "(17152193, 22638920)"
            ]
          },
          "execution_count": 4,
          "metadata": {},
          "output_type": "execute_result"
        }
      ],
      "source": [
        "df = pd.read_csv(\"cyberbullying_tweets.csv\")\n",
        "Y = df.iloc[::,1].to_numpy()\n",
        "types = {'age':0,\n",
        "         'ethnicity':1,\n",
        "         'gender':2,\n",
        "         'not_cyberbullying':3,\n",
        "         'other_cyberbullying':4,\n",
        "         'religion':5}\n",
        "Y = [types[y] for y in Y]\n",
        "Y = np.reshape(Y, (len(Y),1))\n",
        "X = df.iloc[::,0].to_numpy()\n",
        "X = [''.join(item.lower() for item in x if item.isalpha() or item == \" \") for x in X]\n",
        "X = [x.split(\" \") for x in X] \n",
        "#X = [item for sublist in X for item in sublist]\n",
        "\n",
        "cbow = gensim.models.Word2Vec(\n",
        "            X,\n",
        "            size=50, # desired no. of features/independent variables\n",
        "            window=8, # context window size\n",
        "            min_count=2, # Ignores all words with total frequency lower than 2.                                  \n",
        "            sg = 0, # 0 for cbow\n",
        "            hs = 0, # to enable negative sampling\n",
        "            negative = 10, # for negative sampling\n",
        "            cbow_mean = 1, # use the mean instead of the sum\n",
        "            workers= 32, # no.of cores\n",
        "            seed = 34) \n",
        "\n",
        "cbow.train(X, total_examples= len(X), epochs=20)\n"
      ]
    },
    {
      "cell_type": "code",
      "execution_count": null,
      "metadata": {
        "colab": {
          "base_uri": "https://localhost:8080/"
        },
        "id": "UoLfot8XQ3JI",
        "outputId": "ca18441c-afc4-4f7f-9812-c832fc92387a"
      },
      "outputs": [
        {
          "data": {
            "text/plain": [
              "(47692, 50)"
            ]
          },
          "execution_count": 5,
          "metadata": {},
          "output_type": "execute_result"
        }
      ],
      "source": [
        "def word_vector(tokens, size):\n",
        "    vec = np.zeros(size).reshape((1, size))\n",
        "    count = 0\n",
        "    for word in tokens:\n",
        "        try:\n",
        "            vec += cbow.wv[word].reshape((1, size))\n",
        "            count += 1.\n",
        "        except KeyError:  # handling the case where the token is not in vocabulary\n",
        "            continue\n",
        "    if count != 0:\n",
        "        vec /= count\n",
        "    return vec\n",
        "wordvec_arrays = np.zeros((len(X), 50)) \n",
        "for i in range(len(X)):\n",
        "    wordvec_arrays[i,:] = word_vector(X[i], 50)\n",
        "wordvec_df = pd.DataFrame(wordvec_arrays)\n",
        "wordvec_df.shape"
      ]
    },
    {
      "cell_type": "code",
      "execution_count": null,
      "metadata": {
        "colab": {
          "base_uri": "https://localhost:8080/"
        },
        "id": "CQhWOlsfQ3JJ",
        "outputId": "296bb6b5-6c80-4aec-b459-4a1b71ba7584"
      },
      "outputs": [
        {
          "name": "stdout",
          "output_type": "stream",
          "text": [
            "sk-learn model score:  0.6437657254682695\n"
          ]
        }
      ],
      "source": [
        "X_train, X_test, y_train, y_test = train_test_split(wordvec_df, Y, test_size=0.30, random_state=0)\n",
        "X_train = X_train.values.tolist()\n",
        "X_test = X_test.values.tolist()\n",
        "\n",
        "clf = tree.DecisionTreeClassifier(max_depth = 10, min_samples_split = 6, min_samples_leaf= 1, random_state=42)\n",
        "clf.fit(X_train, y_train)\n",
        "print(\"sk-learn model score: \", clf.score(X_test, y_test))\n"
      ]
    },
    {
      "cell_type": "code",
      "execution_count": null,
      "metadata": {
        "colab": {
          "base_uri": "https://localhost:8080/"
        },
        "id": "wYmvGnpp5a6X",
        "outputId": "48194230-bb66-42f7-e220-20d685813d7d"
      },
      "outputs": [
        {
          "name": "stdout",
          "output_type": "stream",
          "text": [
            "Best DT model score:  0.6456527816606095\n"
          ]
        }
      ],
      "source": [
        "cbow_dt = Pipeline([\n",
        "                    ('dt', tree.DecisionTreeClassifier())])\n",
        "\n",
        "\n",
        "parameters = {\n",
        "              'dt__max_depth': [5, 10, 15],\n",
        "              'dt__min_samples_split': [3, 6, 10],\n",
        "              'dt__min_samples_leaf': [1, 4, 8]}\n",
        "\n",
        "grid_DT = GridSearchCV(cbow_dt, parameters, verbose=0, return_train_score=True)\n",
        "grid_DT = grid_DT.fit(X_train, y_train)\n",
        "\n",
        "\n",
        "print(\"Best DT model score: \", grid_DT.score(X_test, y_test))"
      ]
    },
    {
      "cell_type": "code",
      "execution_count": null,
      "metadata": {
        "colab": {
          "base_uri": "https://localhost:8080/"
        },
        "id": "m6X_CqaCEOe_",
        "outputId": "6ff7ac34-f993-47a1-af5e-da5ceddf341f"
      },
      "outputs": [
        {
          "data": {
            "text/plain": [
              "{'dt': DecisionTreeClassifier(max_depth=10, min_samples_split=10),\n",
              " 'dt__ccp_alpha': 0.0,\n",
              " 'dt__class_weight': None,\n",
              " 'dt__criterion': 'gini',\n",
              " 'dt__max_depth': 10,\n",
              " 'dt__max_features': None,\n",
              " 'dt__max_leaf_nodes': None,\n",
              " 'dt__min_impurity_decrease': 0.0,\n",
              " 'dt__min_samples_leaf': 1,\n",
              " 'dt__min_samples_split': 10,\n",
              " 'dt__min_weight_fraction_leaf': 0.0,\n",
              " 'dt__random_state': None,\n",
              " 'dt__splitter': 'best',\n",
              " 'memory': None,\n",
              " 'steps': [('dt', DecisionTreeClassifier(max_depth=10, min_samples_split=10))],\n",
              " 'verbose': False}"
            ]
          },
          "execution_count": 37,
          "metadata": {},
          "output_type": "execute_result"
        }
      ],
      "source": [
        "grid_DT.best_estimator_.get_params()"
      ]
    },
    {
      "cell_type": "code",
      "execution_count": null,
      "metadata": {
        "colab": {
          "base_uri": "https://localhost:8080/",
          "height": 927
        },
        "id": "ZpGsA2P-FBkz",
        "outputId": "16c5cfd6-326a-44c6-e1dc-12559648099b"
      },
      "outputs": [
        {
          "data": {
            "text/html": [
              "\n",
              "  <div id=\"df-f6520bb2-51a4-4105-8517-18869a91b94e\">\n",
              "    <div class=\"colab-df-container\">\n",
              "      <div>\n",
              "<style scoped>\n",
              "    .dataframe tbody tr th:only-of-type {\n",
              "        vertical-align: middle;\n",
              "    }\n",
              "\n",
              "    .dataframe tbody tr th {\n",
              "        vertical-align: top;\n",
              "    }\n",
              "\n",
              "    .dataframe thead th {\n",
              "        text-align: right;\n",
              "    }\n",
              "</style>\n",
              "<table border=\"1\" class=\"dataframe\">\n",
              "  <thead>\n",
              "    <tr style=\"text-align: right;\">\n",
              "      <th></th>\n",
              "      <th>params</th>\n",
              "      <th>rank_test_score</th>\n",
              "      <th>mean_test_score</th>\n",
              "      <th>std_test_score</th>\n",
              "    </tr>\n",
              "    <tr>\n",
              "      <th>kernel</th>\n",
              "      <th></th>\n",
              "      <th></th>\n",
              "      <th></th>\n",
              "      <th></th>\n",
              "    </tr>\n",
              "  </thead>\n",
              "  <tbody>\n",
              "    <tr>\n",
              "      <th>10_1_10</th>\n",
              "      <td>{'dt__max_depth': 10, 'dt__min_samples_leaf': ...</td>\n",
              "      <td>1</td>\n",
              "      <td>0.649053</td>\n",
              "      <td>0.003798</td>\n",
              "    </tr>\n",
              "    <tr>\n",
              "      <th>10_1_3</th>\n",
              "      <td>{'dt__max_depth': 10, 'dt__min_samples_leaf': ...</td>\n",
              "      <td>2</td>\n",
              "      <td>0.648754</td>\n",
              "      <td>0.004040</td>\n",
              "    </tr>\n",
              "    <tr>\n",
              "      <th>10_4_6</th>\n",
              "      <td>{'dt__max_depth': 10, 'dt__min_samples_leaf': ...</td>\n",
              "      <td>3</td>\n",
              "      <td>0.648664</td>\n",
              "      <td>0.004225</td>\n",
              "    </tr>\n",
              "    <tr>\n",
              "      <th>10_1_6</th>\n",
              "      <td>{'dt__max_depth': 10, 'dt__min_samples_leaf': ...</td>\n",
              "      <td>4</td>\n",
              "      <td>0.648634</td>\n",
              "      <td>0.003520</td>\n",
              "    </tr>\n",
              "    <tr>\n",
              "      <th>10_4_10</th>\n",
              "      <td>{'dt__max_depth': 10, 'dt__min_samples_leaf': ...</td>\n",
              "      <td>5</td>\n",
              "      <td>0.648544</td>\n",
              "      <td>0.004032</td>\n",
              "    </tr>\n",
              "    <tr>\n",
              "      <th>10_4_3</th>\n",
              "      <td>{'dt__max_depth': 10, 'dt__min_samples_leaf': ...</td>\n",
              "      <td>6</td>\n",
              "      <td>0.648514</td>\n",
              "      <td>0.003931</td>\n",
              "    </tr>\n",
              "    <tr>\n",
              "      <th>10_8_10</th>\n",
              "      <td>{'dt__max_depth': 10, 'dt__min_samples_leaf': ...</td>\n",
              "      <td>7</td>\n",
              "      <td>0.647316</td>\n",
              "      <td>0.003413</td>\n",
              "    </tr>\n",
              "    <tr>\n",
              "      <th>10_8_3</th>\n",
              "      <td>{'dt__max_depth': 10, 'dt__min_samples_leaf': ...</td>\n",
              "      <td>8</td>\n",
              "      <td>0.647256</td>\n",
              "      <td>0.003349</td>\n",
              "    </tr>\n",
              "    <tr>\n",
              "      <th>10_8_6</th>\n",
              "      <td>{'dt__max_depth': 10, 'dt__min_samples_leaf': ...</td>\n",
              "      <td>9</td>\n",
              "      <td>0.647166</td>\n",
              "      <td>0.003641</td>\n",
              "    </tr>\n",
              "    <tr>\n",
              "      <th>15_8_3</th>\n",
              "      <td>{'dt__max_depth': 15, 'dt__min_samples_leaf': ...</td>\n",
              "      <td>10</td>\n",
              "      <td>0.642913</td>\n",
              "      <td>0.003011</td>\n",
              "    </tr>\n",
              "    <tr>\n",
              "      <th>15_8_6</th>\n",
              "      <td>{'dt__max_depth': 15, 'dt__min_samples_leaf': ...</td>\n",
              "      <td>11</td>\n",
              "      <td>0.642643</td>\n",
              "      <td>0.002596</td>\n",
              "    </tr>\n",
              "    <tr>\n",
              "      <th>15_8_10</th>\n",
              "      <td>{'dt__max_depth': 15, 'dt__min_samples_leaf': ...</td>\n",
              "      <td>12</td>\n",
              "      <td>0.642553</td>\n",
              "      <td>0.002619</td>\n",
              "    </tr>\n",
              "    <tr>\n",
              "      <th>15_4_10</th>\n",
              "      <td>{'dt__max_depth': 15, 'dt__min_samples_leaf': ...</td>\n",
              "      <td>13</td>\n",
              "      <td>0.639768</td>\n",
              "      <td>0.002898</td>\n",
              "    </tr>\n",
              "    <tr>\n",
              "      <th>15_4_6</th>\n",
              "      <td>{'dt__max_depth': 15, 'dt__min_samples_leaf': ...</td>\n",
              "      <td>14</td>\n",
              "      <td>0.638689</td>\n",
              "      <td>0.002270</td>\n",
              "    </tr>\n",
              "    <tr>\n",
              "      <th>15_4_3</th>\n",
              "      <td>{'dt__max_depth': 15, 'dt__min_samples_leaf': ...</td>\n",
              "      <td>15</td>\n",
              "      <td>0.638450</td>\n",
              "      <td>0.002435</td>\n",
              "    </tr>\n",
              "    <tr>\n",
              "      <th>15_1_6</th>\n",
              "      <td>{'dt__max_depth': 15, 'dt__min_samples_leaf': ...</td>\n",
              "      <td>16</td>\n",
              "      <td>0.638180</td>\n",
              "      <td>0.003626</td>\n",
              "    </tr>\n",
              "    <tr>\n",
              "      <th>15_1_10</th>\n",
              "      <td>{'dt__max_depth': 15, 'dt__min_samples_leaf': ...</td>\n",
              "      <td>17</td>\n",
              "      <td>0.637311</td>\n",
              "      <td>0.002522</td>\n",
              "    </tr>\n",
              "    <tr>\n",
              "      <th>15_1_3</th>\n",
              "      <td>{'dt__max_depth': 15, 'dt__min_samples_leaf': ...</td>\n",
              "      <td>18</td>\n",
              "      <td>0.636622</td>\n",
              "      <td>0.002934</td>\n",
              "    </tr>\n",
              "    <tr>\n",
              "      <th>5_1_10</th>\n",
              "      <td>{'dt__max_depth': 5, 'dt__min_samples_leaf': 1...</td>\n",
              "      <td>19</td>\n",
              "      <td>0.562395</td>\n",
              "      <td>0.004306</td>\n",
              "    </tr>\n",
              "    <tr>\n",
              "      <th>5_1_6</th>\n",
              "      <td>{'dt__max_depth': 5, 'dt__min_samples_leaf': 1...</td>\n",
              "      <td>19</td>\n",
              "      <td>0.562395</td>\n",
              "      <td>0.004306</td>\n",
              "    </tr>\n",
              "    <tr>\n",
              "      <th>5_1_3</th>\n",
              "      <td>{'dt__max_depth': 5, 'dt__min_samples_leaf': 1...</td>\n",
              "      <td>19</td>\n",
              "      <td>0.562395</td>\n",
              "      <td>0.004306</td>\n",
              "    </tr>\n",
              "    <tr>\n",
              "      <th>5_8_6</th>\n",
              "      <td>{'dt__max_depth': 5, 'dt__min_samples_leaf': 8...</td>\n",
              "      <td>22</td>\n",
              "      <td>0.562305</td>\n",
              "      <td>0.004135</td>\n",
              "    </tr>\n",
              "    <tr>\n",
              "      <th>5_8_3</th>\n",
              "      <td>{'dt__max_depth': 5, 'dt__min_samples_leaf': 8...</td>\n",
              "      <td>22</td>\n",
              "      <td>0.562305</td>\n",
              "      <td>0.004135</td>\n",
              "    </tr>\n",
              "    <tr>\n",
              "      <th>5_4_10</th>\n",
              "      <td>{'dt__max_depth': 5, 'dt__min_samples_leaf': 4...</td>\n",
              "      <td>22</td>\n",
              "      <td>0.562305</td>\n",
              "      <td>0.004135</td>\n",
              "    </tr>\n",
              "    <tr>\n",
              "      <th>5_4_6</th>\n",
              "      <td>{'dt__max_depth': 5, 'dt__min_samples_leaf': 4...</td>\n",
              "      <td>22</td>\n",
              "      <td>0.562305</td>\n",
              "      <td>0.004135</td>\n",
              "    </tr>\n",
              "    <tr>\n",
              "      <th>5_4_3</th>\n",
              "      <td>{'dt__max_depth': 5, 'dt__min_samples_leaf': 4...</td>\n",
              "      <td>22</td>\n",
              "      <td>0.562305</td>\n",
              "      <td>0.004135</td>\n",
              "    </tr>\n",
              "    <tr>\n",
              "      <th>5_8_10</th>\n",
              "      <td>{'dt__max_depth': 5, 'dt__min_samples_leaf': 8...</td>\n",
              "      <td>22</td>\n",
              "      <td>0.562305</td>\n",
              "      <td>0.004135</td>\n",
              "    </tr>\n",
              "  </tbody>\n",
              "</table>\n",
              "</div>\n",
              "      <button class=\"colab-df-convert\" onclick=\"convertToInteractive('df-f6520bb2-51a4-4105-8517-18869a91b94e')\"\n",
              "              title=\"Convert this dataframe to an interactive table.\"\n",
              "              style=\"display:none;\">\n",
              "        \n",
              "  <svg xmlns=\"http://www.w3.org/2000/svg\" height=\"24px\"viewBox=\"0 0 24 24\"\n",
              "       width=\"24px\">\n",
              "    <path d=\"M0 0h24v24H0V0z\" fill=\"none\"/>\n",
              "    <path d=\"M18.56 5.44l.94 2.06.94-2.06 2.06-.94-2.06-.94-.94-2.06-.94 2.06-2.06.94zm-11 1L8.5 8.5l.94-2.06 2.06-.94-2.06-.94L8.5 2.5l-.94 2.06-2.06.94zm10 10l.94 2.06.94-2.06 2.06-.94-2.06-.94-.94-2.06-.94 2.06-2.06.94z\"/><path d=\"M17.41 7.96l-1.37-1.37c-.4-.4-.92-.59-1.43-.59-.52 0-1.04.2-1.43.59L10.3 9.45l-7.72 7.72c-.78.78-.78 2.05 0 2.83L4 21.41c.39.39.9.59 1.41.59.51 0 1.02-.2 1.41-.59l7.78-7.78 2.81-2.81c.8-.78.8-2.07 0-2.86zM5.41 20L4 18.59l7.72-7.72 1.47 1.35L5.41 20z\"/>\n",
              "  </svg>\n",
              "      </button>\n",
              "      \n",
              "  <style>\n",
              "    .colab-df-container {\n",
              "      display:flex;\n",
              "      flex-wrap:wrap;\n",
              "      gap: 12px;\n",
              "    }\n",
              "\n",
              "    .colab-df-convert {\n",
              "      background-color: #E8F0FE;\n",
              "      border: none;\n",
              "      border-radius: 50%;\n",
              "      cursor: pointer;\n",
              "      display: none;\n",
              "      fill: #1967D2;\n",
              "      height: 32px;\n",
              "      padding: 0 0 0 0;\n",
              "      width: 32px;\n",
              "    }\n",
              "\n",
              "    .colab-df-convert:hover {\n",
              "      background-color: #E2EBFA;\n",
              "      box-shadow: 0px 1px 2px rgba(60, 64, 67, 0.3), 0px 1px 3px 1px rgba(60, 64, 67, 0.15);\n",
              "      fill: #174EA6;\n",
              "    }\n",
              "\n",
              "    [theme=dark] .colab-df-convert {\n",
              "      background-color: #3B4455;\n",
              "      fill: #D2E3FC;\n",
              "    }\n",
              "\n",
              "    [theme=dark] .colab-df-convert:hover {\n",
              "      background-color: #434B5C;\n",
              "      box-shadow: 0px 1px 3px 1px rgba(0, 0, 0, 0.15);\n",
              "      filter: drop-shadow(0px 1px 2px rgba(0, 0, 0, 0.3));\n",
              "      fill: #FFFFFF;\n",
              "    }\n",
              "  </style>\n",
              "\n",
              "      <script>\n",
              "        const buttonEl =\n",
              "          document.querySelector('#df-f6520bb2-51a4-4105-8517-18869a91b94e button.colab-df-convert');\n",
              "        buttonEl.style.display =\n",
              "          google.colab.kernel.accessAllowed ? 'block' : 'none';\n",
              "\n",
              "        async function convertToInteractive(key) {\n",
              "          const element = document.querySelector('#df-f6520bb2-51a4-4105-8517-18869a91b94e');\n",
              "          const dataTable =\n",
              "            await google.colab.kernel.invokeFunction('convertToInteractive',\n",
              "                                                     [key], {});\n",
              "          if (!dataTable) return;\n",
              "\n",
              "          const docLinkHtml = 'Like what you see? Visit the ' +\n",
              "            '<a target=\"_blank\" href=https://colab.research.google.com/notebooks/data_table.ipynb>data table notebook</a>'\n",
              "            + ' to learn more about interactive tables.';\n",
              "          element.innerHTML = '';\n",
              "          dataTable['output_type'] = 'display_data';\n",
              "          await google.colab.output.renderOutput(dataTable, element);\n",
              "          const docLink = document.createElement('div');\n",
              "          docLink.innerHTML = docLinkHtml;\n",
              "          element.appendChild(docLink);\n",
              "        }\n",
              "      </script>\n",
              "    </div>\n",
              "  </div>\n",
              "  "
            ],
            "text/plain": [
              "                                                    params  rank_test_score  \\\n",
              "kernel                                                                        \n",
              "10_1_10  {'dt__max_depth': 10, 'dt__min_samples_leaf': ...                1   \n",
              "10_1_3   {'dt__max_depth': 10, 'dt__min_samples_leaf': ...                2   \n",
              "10_4_6   {'dt__max_depth': 10, 'dt__min_samples_leaf': ...                3   \n",
              "10_1_6   {'dt__max_depth': 10, 'dt__min_samples_leaf': ...                4   \n",
              "10_4_10  {'dt__max_depth': 10, 'dt__min_samples_leaf': ...                5   \n",
              "10_4_3   {'dt__max_depth': 10, 'dt__min_samples_leaf': ...                6   \n",
              "10_8_10  {'dt__max_depth': 10, 'dt__min_samples_leaf': ...                7   \n",
              "10_8_3   {'dt__max_depth': 10, 'dt__min_samples_leaf': ...                8   \n",
              "10_8_6   {'dt__max_depth': 10, 'dt__min_samples_leaf': ...                9   \n",
              "15_8_3   {'dt__max_depth': 15, 'dt__min_samples_leaf': ...               10   \n",
              "15_8_6   {'dt__max_depth': 15, 'dt__min_samples_leaf': ...               11   \n",
              "15_8_10  {'dt__max_depth': 15, 'dt__min_samples_leaf': ...               12   \n",
              "15_4_10  {'dt__max_depth': 15, 'dt__min_samples_leaf': ...               13   \n",
              "15_4_6   {'dt__max_depth': 15, 'dt__min_samples_leaf': ...               14   \n",
              "15_4_3   {'dt__max_depth': 15, 'dt__min_samples_leaf': ...               15   \n",
              "15_1_6   {'dt__max_depth': 15, 'dt__min_samples_leaf': ...               16   \n",
              "15_1_10  {'dt__max_depth': 15, 'dt__min_samples_leaf': ...               17   \n",
              "15_1_3   {'dt__max_depth': 15, 'dt__min_samples_leaf': ...               18   \n",
              "5_1_10   {'dt__max_depth': 5, 'dt__min_samples_leaf': 1...               19   \n",
              "5_1_6    {'dt__max_depth': 5, 'dt__min_samples_leaf': 1...               19   \n",
              "5_1_3    {'dt__max_depth': 5, 'dt__min_samples_leaf': 1...               19   \n",
              "5_8_6    {'dt__max_depth': 5, 'dt__min_samples_leaf': 8...               22   \n",
              "5_8_3    {'dt__max_depth': 5, 'dt__min_samples_leaf': 8...               22   \n",
              "5_4_10   {'dt__max_depth': 5, 'dt__min_samples_leaf': 4...               22   \n",
              "5_4_6    {'dt__max_depth': 5, 'dt__min_samples_leaf': 4...               22   \n",
              "5_4_3    {'dt__max_depth': 5, 'dt__min_samples_leaf': 4...               22   \n",
              "5_8_10   {'dt__max_depth': 5, 'dt__min_samples_leaf': 8...               22   \n",
              "\n",
              "         mean_test_score  std_test_score  \n",
              "kernel                                    \n",
              "10_1_10         0.649053        0.003798  \n",
              "10_1_3          0.648754        0.004040  \n",
              "10_4_6          0.648664        0.004225  \n",
              "10_1_6          0.648634        0.003520  \n",
              "10_4_10         0.648544        0.004032  \n",
              "10_4_3          0.648514        0.003931  \n",
              "10_8_10         0.647316        0.003413  \n",
              "10_8_3          0.647256        0.003349  \n",
              "10_8_6          0.647166        0.003641  \n",
              "15_8_3          0.642913        0.003011  \n",
              "15_8_6          0.642643        0.002596  \n",
              "15_8_10         0.642553        0.002619  \n",
              "15_4_10         0.639768        0.002898  \n",
              "15_4_6          0.638689        0.002270  \n",
              "15_4_3          0.638450        0.002435  \n",
              "15_1_6          0.638180        0.003626  \n",
              "15_1_10         0.637311        0.002522  \n",
              "15_1_3          0.636622        0.002934  \n",
              "5_1_10          0.562395        0.004306  \n",
              "5_1_6           0.562395        0.004306  \n",
              "5_1_3           0.562395        0.004306  \n",
              "5_8_6           0.562305        0.004135  \n",
              "5_8_3           0.562305        0.004135  \n",
              "5_4_10          0.562305        0.004135  \n",
              "5_4_6           0.562305        0.004135  \n",
              "5_4_3           0.562305        0.004135  \n",
              "5_8_10          0.562305        0.004135  "
            ]
          },
          "execution_count": 38,
          "metadata": {},
          "output_type": "execute_result"
        }
      ],
      "source": [
        "results_df = pd.DataFrame(grid_DT.cv_results_)\n",
        "results_df = results_df.sort_values(by=[\"rank_test_score\"])\n",
        "results_df = results_df.set_index(\n",
        "    results_df[\"params\"].apply(lambda x: \"_\".join(str(val) for val in x.values()))\n",
        ").rename_axis(\"kernel\")\n",
        "results_df[[\"params\", \"rank_test_score\", \"mean_test_score\", \"std_test_score\"]]"
      ]
    },
    {
      "cell_type": "code",
      "execution_count": null,
      "metadata": {
        "id": "VA_sVl08Q3JK"
      },
      "outputs": [],
      "source": [
        "\n",
        "\n",
        "clf = RandomForestClassifier()\n",
        "\n"
      ]
    },
    {
      "cell_type": "code",
      "execution_count": null,
      "metadata": {
        "colab": {
          "base_uri": "https://localhost:8080/"
        },
        "id": "Cxn-IzyrSrld",
        "outputId": "60da3a3a-ba02-4b1d-dbde-5cf0c4f843ad"
      },
      "outputs": [
        {
          "name": "stderr",
          "output_type": "stream",
          "text": [
            "/usr/local/lib/python3.7/dist-packages/sklearn/pipeline.py:394: DataConversionWarning: A column-vector y was passed when a 1d array was expected. Please change the shape of y to (n_samples,), for example using ravel().\n",
            "  self._final_estimator.fit(Xt, y, **fit_params_last_step)\n",
            "/usr/local/lib/python3.7/dist-packages/sklearn/pipeline.py:394: DataConversionWarning: A column-vector y was passed when a 1d array was expected. Please change the shape of y to (n_samples,), for example using ravel().\n",
            "  self._final_estimator.fit(Xt, y, **fit_params_last_step)\n",
            "/usr/local/lib/python3.7/dist-packages/sklearn/pipeline.py:394: DataConversionWarning: A column-vector y was passed when a 1d array was expected. Please change the shape of y to (n_samples,), for example using ravel().\n",
            "  self._final_estimator.fit(Xt, y, **fit_params_last_step)\n",
            "/usr/local/lib/python3.7/dist-packages/sklearn/pipeline.py:394: DataConversionWarning: A column-vector y was passed when a 1d array was expected. Please change the shape of y to (n_samples,), for example using ravel().\n",
            "  self._final_estimator.fit(Xt, y, **fit_params_last_step)\n",
            "/usr/local/lib/python3.7/dist-packages/sklearn/pipeline.py:394: DataConversionWarning: A column-vector y was passed when a 1d array was expected. Please change the shape of y to (n_samples,), for example using ravel().\n",
            "  self._final_estimator.fit(Xt, y, **fit_params_last_step)\n",
            "/usr/local/lib/python3.7/dist-packages/sklearn/pipeline.py:394: DataConversionWarning: A column-vector y was passed when a 1d array was expected. Please change the shape of y to (n_samples,), for example using ravel().\n",
            "  self._final_estimator.fit(Xt, y, **fit_params_last_step)\n",
            "/usr/local/lib/python3.7/dist-packages/sklearn/pipeline.py:394: DataConversionWarning: A column-vector y was passed when a 1d array was expected. Please change the shape of y to (n_samples,), for example using ravel().\n",
            "  self._final_estimator.fit(Xt, y, **fit_params_last_step)\n",
            "/usr/local/lib/python3.7/dist-packages/sklearn/pipeline.py:394: DataConversionWarning: A column-vector y was passed when a 1d array was expected. Please change the shape of y to (n_samples,), for example using ravel().\n",
            "  self._final_estimator.fit(Xt, y, **fit_params_last_step)\n",
            "/usr/local/lib/python3.7/dist-packages/sklearn/pipeline.py:394: DataConversionWarning: A column-vector y was passed when a 1d array was expected. Please change the shape of y to (n_samples,), for example using ravel().\n",
            "  self._final_estimator.fit(Xt, y, **fit_params_last_step)\n",
            "/usr/local/lib/python3.7/dist-packages/sklearn/pipeline.py:394: DataConversionWarning: A column-vector y was passed when a 1d array was expected. Please change the shape of y to (n_samples,), for example using ravel().\n",
            "  self._final_estimator.fit(Xt, y, **fit_params_last_step)\n",
            "/usr/local/lib/python3.7/dist-packages/sklearn/pipeline.py:394: DataConversionWarning: A column-vector y was passed when a 1d array was expected. Please change the shape of y to (n_samples,), for example using ravel().\n",
            "  self._final_estimator.fit(Xt, y, **fit_params_last_step)\n",
            "/usr/local/lib/python3.7/dist-packages/sklearn/pipeline.py:394: DataConversionWarning: A column-vector y was passed when a 1d array was expected. Please change the shape of y to (n_samples,), for example using ravel().\n",
            "  self._final_estimator.fit(Xt, y, **fit_params_last_step)\n",
            "/usr/local/lib/python3.7/dist-packages/sklearn/pipeline.py:394: DataConversionWarning: A column-vector y was passed when a 1d array was expected. Please change the shape of y to (n_samples,), for example using ravel().\n",
            "  self._final_estimator.fit(Xt, y, **fit_params_last_step)\n",
            "/usr/local/lib/python3.7/dist-packages/sklearn/pipeline.py:394: DataConversionWarning: A column-vector y was passed when a 1d array was expected. Please change the shape of y to (n_samples,), for example using ravel().\n",
            "  self._final_estimator.fit(Xt, y, **fit_params_last_step)\n",
            "/usr/local/lib/python3.7/dist-packages/sklearn/pipeline.py:394: DataConversionWarning: A column-vector y was passed when a 1d array was expected. Please change the shape of y to (n_samples,), for example using ravel().\n",
            "  self._final_estimator.fit(Xt, y, **fit_params_last_step)\n",
            "/usr/local/lib/python3.7/dist-packages/sklearn/pipeline.py:394: DataConversionWarning: A column-vector y was passed when a 1d array was expected. Please change the shape of y to (n_samples,), for example using ravel().\n",
            "  self._final_estimator.fit(Xt, y, **fit_params_last_step)\n",
            "/usr/local/lib/python3.7/dist-packages/sklearn/pipeline.py:394: DataConversionWarning: A column-vector y was passed when a 1d array was expected. Please change the shape of y to (n_samples,), for example using ravel().\n",
            "  self._final_estimator.fit(Xt, y, **fit_params_last_step)\n",
            "/usr/local/lib/python3.7/dist-packages/sklearn/pipeline.py:394: DataConversionWarning: A column-vector y was passed when a 1d array was expected. Please change the shape of y to (n_samples,), for example using ravel().\n",
            "  self._final_estimator.fit(Xt, y, **fit_params_last_step)\n",
            "/usr/local/lib/python3.7/dist-packages/sklearn/pipeline.py:394: DataConversionWarning: A column-vector y was passed when a 1d array was expected. Please change the shape of y to (n_samples,), for example using ravel().\n",
            "  self._final_estimator.fit(Xt, y, **fit_params_last_step)\n",
            "/usr/local/lib/python3.7/dist-packages/sklearn/pipeline.py:394: DataConversionWarning: A column-vector y was passed when a 1d array was expected. Please change the shape of y to (n_samples,), for example using ravel().\n",
            "  self._final_estimator.fit(Xt, y, **fit_params_last_step)\n",
            "/usr/local/lib/python3.7/dist-packages/sklearn/pipeline.py:394: DataConversionWarning: A column-vector y was passed when a 1d array was expected. Please change the shape of y to (n_samples,), for example using ravel().\n",
            "  self._final_estimator.fit(Xt, y, **fit_params_last_step)\n"
          ]
        },
        {
          "name": "stdout",
          "output_type": "stream",
          "text": [
            "Best RF model score:  0.7323874755381604\n",
            "\n",
            "\n",
            "\n"
          ]
        },
        {
          "data": {
            "text/plain": [
              "{'clf': RandomForestClassifier(n_estimators=20),\n",
              " 'clf__bootstrap': True,\n",
              " 'clf__ccp_alpha': 0.0,\n",
              " 'clf__class_weight': None,\n",
              " 'clf__criterion': 'gini',\n",
              " 'clf__max_depth': None,\n",
              " 'clf__max_features': 'auto',\n",
              " 'clf__max_leaf_nodes': None,\n",
              " 'clf__max_samples': None,\n",
              " 'clf__min_impurity_decrease': 0.0,\n",
              " 'clf__min_samples_leaf': 1,\n",
              " 'clf__min_samples_split': 2,\n",
              " 'clf__min_weight_fraction_leaf': 0.0,\n",
              " 'clf__n_estimators': 20,\n",
              " 'clf__n_jobs': None,\n",
              " 'clf__oob_score': False,\n",
              " 'clf__random_state': None,\n",
              " 'clf__verbose': 0,\n",
              " 'clf__warm_start': False,\n",
              " 'memory': None,\n",
              " 'steps': [('clf', RandomForestClassifier(n_estimators=20))],\n",
              " 'verbose': False}"
            ]
          },
          "execution_count": 42,
          "metadata": {},
          "output_type": "execute_result"
        }
      ],
      "source": [
        "RF = Pipeline([('clf', RandomForestClassifier())])\n",
        "\n",
        "\n",
        "parameters = {'clf__n_estimators': [5, 10, 15, 20]}\n",
        "\n",
        "grid_RF = GridSearchCV(RF, parameters, verbose=0, return_train_score=True)\n",
        "grid_RF = grid_RF.fit(X_train, y_train)\n",
        "\n",
        "print(\"\\n\\n\")\n",
        "print(\"Best RF model score: \", grid_RF.score(X_test, y_test))\n",
        "print(\"\\n\\n\")\n",
        "grid_RF.best_estimator_.get_params()"
      ]
    },
    {
      "cell_type": "code",
      "execution_count": null,
      "metadata": {
        "colab": {
          "background_save": true,
          "base_uri": "https://localhost:8080/"
        },
        "id": "P7kVFblGFzlj",
        "outputId": "0394a623-2c91-40f2-a85a-6109fa52748f"
      },
      "outputs": [
        {
          "name": "stderr",
          "output_type": "stream",
          "text": [
            "/usr/local/lib/python3.7/dist-packages/sklearn/ensemble/_bagging.py:719: DataConversionWarning: A column-vector y was passed when a 1d array was expected. Please change the shape of y to (n_samples, ), for example using ravel().\n",
            "  y = column_or_1d(y, warn=True)\n",
            "/usr/local/lib/python3.7/dist-packages/sklearn/ensemble/_bagging.py:719: DataConversionWarning: A column-vector y was passed when a 1d array was expected. Please change the shape of y to (n_samples, ), for example using ravel().\n",
            "  y = column_or_1d(y, warn=True)\n",
            "/usr/local/lib/python3.7/dist-packages/sklearn/ensemble/_bagging.py:719: DataConversionWarning: A column-vector y was passed when a 1d array was expected. Please change the shape of y to (n_samples, ), for example using ravel().\n",
            "  y = column_or_1d(y, warn=True)\n",
            "/usr/local/lib/python3.7/dist-packages/sklearn/ensemble/_bagging.py:719: DataConversionWarning: A column-vector y was passed when a 1d array was expected. Please change the shape of y to (n_samples, ), for example using ravel().\n",
            "  y = column_or_1d(y, warn=True)\n",
            "/usr/local/lib/python3.7/dist-packages/sklearn/ensemble/_bagging.py:719: DataConversionWarning: A column-vector y was passed when a 1d array was expected. Please change the shape of y to (n_samples, ), for example using ravel().\n",
            "  y = column_or_1d(y, warn=True)\n",
            "/usr/local/lib/python3.7/dist-packages/sklearn/ensemble/_bagging.py:719: DataConversionWarning: A column-vector y was passed when a 1d array was expected. Please change the shape of y to (n_samples, ), for example using ravel().\n",
            "  y = column_or_1d(y, warn=True)\n",
            "/usr/local/lib/python3.7/dist-packages/sklearn/ensemble/_bagging.py:719: DataConversionWarning: A column-vector y was passed when a 1d array was expected. Please change the shape of y to (n_samples, ), for example using ravel().\n",
            "  y = column_or_1d(y, warn=True)\n",
            "/usr/local/lib/python3.7/dist-packages/sklearn/ensemble/_bagging.py:719: DataConversionWarning: A column-vector y was passed when a 1d array was expected. Please change the shape of y to (n_samples, ), for example using ravel().\n",
            "  y = column_or_1d(y, warn=True)\n",
            "/usr/local/lib/python3.7/dist-packages/sklearn/ensemble/_bagging.py:719: DataConversionWarning: A column-vector y was passed when a 1d array was expected. Please change the shape of y to (n_samples, ), for example using ravel().\n",
            "  y = column_or_1d(y, warn=True)\n",
            "/usr/local/lib/python3.7/dist-packages/sklearn/ensemble/_bagging.py:719: DataConversionWarning: A column-vector y was passed when a 1d array was expected. Please change the shape of y to (n_samples, ), for example using ravel().\n",
            "  y = column_or_1d(y, warn=True)\n",
            "/usr/local/lib/python3.7/dist-packages/sklearn/ensemble/_bagging.py:719: DataConversionWarning: A column-vector y was passed when a 1d array was expected. Please change the shape of y to (n_samples, ), for example using ravel().\n",
            "  y = column_or_1d(y, warn=True)\n",
            "/usr/local/lib/python3.7/dist-packages/sklearn/ensemble/_bagging.py:719: DataConversionWarning: A column-vector y was passed when a 1d array was expected. Please change the shape of y to (n_samples, ), for example using ravel().\n",
            "  y = column_or_1d(y, warn=True)\n",
            "/usr/local/lib/python3.7/dist-packages/sklearn/ensemble/_bagging.py:719: DataConversionWarning: A column-vector y was passed when a 1d array was expected. Please change the shape of y to (n_samples, ), for example using ravel().\n",
            "  y = column_or_1d(y, warn=True)\n",
            "/usr/local/lib/python3.7/dist-packages/sklearn/ensemble/_bagging.py:719: DataConversionWarning: A column-vector y was passed when a 1d array was expected. Please change the shape of y to (n_samples, ), for example using ravel().\n",
            "  y = column_or_1d(y, warn=True)\n",
            "/usr/local/lib/python3.7/dist-packages/sklearn/ensemble/_bagging.py:719: DataConversionWarning: A column-vector y was passed when a 1d array was expected. Please change the shape of y to (n_samples, ), for example using ravel().\n",
            "  y = column_or_1d(y, warn=True)\n",
            "/usr/local/lib/python3.7/dist-packages/sklearn/ensemble/_bagging.py:719: DataConversionWarning: A column-vector y was passed when a 1d array was expected. Please change the shape of y to (n_samples, ), for example using ravel().\n",
            "  y = column_or_1d(y, warn=True)\n",
            "/usr/local/lib/python3.7/dist-packages/sklearn/ensemble/_bagging.py:719: DataConversionWarning: A column-vector y was passed when a 1d array was expected. Please change the shape of y to (n_samples, ), for example using ravel().\n",
            "  y = column_or_1d(y, warn=True)\n",
            "/usr/local/lib/python3.7/dist-packages/sklearn/ensemble/_bagging.py:719: DataConversionWarning: A column-vector y was passed when a 1d array was expected. Please change the shape of y to (n_samples, ), for example using ravel().\n",
            "  y = column_or_1d(y, warn=True)\n",
            "/usr/local/lib/python3.7/dist-packages/sklearn/ensemble/_bagging.py:719: DataConversionWarning: A column-vector y was passed when a 1d array was expected. Please change the shape of y to (n_samples, ), for example using ravel().\n",
            "  y = column_or_1d(y, warn=True)\n",
            "/usr/local/lib/python3.7/dist-packages/sklearn/ensemble/_bagging.py:719: DataConversionWarning: A column-vector y was passed when a 1d array was expected. Please change the shape of y to (n_samples, ), for example using ravel().\n",
            "  y = column_or_1d(y, warn=True)\n",
            "/usr/local/lib/python3.7/dist-packages/sklearn/ensemble/_bagging.py:719: DataConversionWarning: A column-vector y was passed when a 1d array was expected. Please change the shape of y to (n_samples, ), for example using ravel().\n",
            "  y = column_or_1d(y, warn=True)\n"
          ]
        },
        {
          "name": "stdout",
          "output_type": "stream",
          "text": [
            "\n",
            "\n",
            "\n",
            "Best BAGGING model score:  0.723930668157674\n",
            "\n",
            "\n",
            "\n"
          ]
        },
        {
          "data": {
            "text/plain": [
              "{'bag': BaggingClassifier(base_estimator=DecisionTreeClassifier(), n_estimators=20),\n",
              " 'bag__base_estimator': DecisionTreeClassifier(),\n",
              " 'bag__base_estimator__ccp_alpha': 0.0,\n",
              " 'bag__base_estimator__class_weight': None,\n",
              " 'bag__base_estimator__criterion': 'gini',\n",
              " 'bag__base_estimator__max_depth': None,\n",
              " 'bag__base_estimator__max_features': None,\n",
              " 'bag__base_estimator__max_leaf_nodes': None,\n",
              " 'bag__base_estimator__min_impurity_decrease': 0.0,\n",
              " 'bag__base_estimator__min_samples_leaf': 1,\n",
              " 'bag__base_estimator__min_samples_split': 2,\n",
              " 'bag__base_estimator__min_weight_fraction_leaf': 0.0,\n",
              " 'bag__base_estimator__random_state': None,\n",
              " 'bag__base_estimator__splitter': 'best',\n",
              " 'bag__bootstrap': True,\n",
              " 'bag__bootstrap_features': False,\n",
              " 'bag__max_features': 1.0,\n",
              " 'bag__max_samples': 1.0,\n",
              " 'bag__n_estimators': 20,\n",
              " 'bag__n_jobs': None,\n",
              " 'bag__oob_score': False,\n",
              " 'bag__random_state': None,\n",
              " 'bag__verbose': 0,\n",
              " 'bag__warm_start': False,\n",
              " 'memory': None,\n",
              " 'steps': [('bag',\n",
              "   BaggingClassifier(base_estimator=DecisionTreeClassifier(), n_estimators=20))],\n",
              " 'verbose': False}"
            ]
          },
          "execution_count": null,
          "metadata": {},
          "output_type": "execute_result"
        }
      ],
      "source": [
        "from sklearn.ensemble import BaggingClassifier\n",
        "\n",
        "\n",
        "bag = BaggingClassifier(tree.DecisionTreeClassifier()) #, max_samples=0.5, n_estimators=100)\n",
        "\n",
        "\n",
        "\n",
        "BAG = Pipeline([\n",
        "               ('bag', bag)])\n",
        "\n",
        "\n",
        "parameters = {'bag__n_estimators': [5, 10, 15, 20]}\n",
        "\n",
        "grid_BAG = GridSearchCV(BAG, parameters, verbose=0, return_train_score=True)\n",
        "grid_BAG = grid_BAG.fit(X_train, y_train)\n",
        "\n",
        "print(\"\\n\\n\")\n",
        "print(\"Best BAGGING model score: \", grid_BAG.score(X_test, y_test))\n",
        "print(\"\\n\\n\")\n",
        "grid_BAG.best_estimator_.get_params()"
      ]
    },
    {
      "cell_type": "code",
      "execution_count": null,
      "metadata": {
        "colab": {
          "base_uri": "https://localhost:8080/"
        },
        "id": "29cud2BSF6yK",
        "outputId": "e77f4d56-747f-4765-bdc6-7f0a7a06f0d3"
      },
      "outputs": [
        {
          "name": "stderr",
          "output_type": "stream",
          "text": [
            "/usr/local/lib/python3.7/dist-packages/sklearn/utils/validation.py:993: DataConversionWarning: A column-vector y was passed when a 1d array was expected. Please change the shape of y to (n_samples, ), for example using ravel().\n",
            "  y = column_or_1d(y, warn=True)\n",
            "/usr/local/lib/python3.7/dist-packages/sklearn/utils/validation.py:993: DataConversionWarning: A column-vector y was passed when a 1d array was expected. Please change the shape of y to (n_samples, ), for example using ravel().\n",
            "  y = column_or_1d(y, warn=True)\n",
            "/usr/local/lib/python3.7/dist-packages/sklearn/utils/validation.py:993: DataConversionWarning: A column-vector y was passed when a 1d array was expected. Please change the shape of y to (n_samples, ), for example using ravel().\n",
            "  y = column_or_1d(y, warn=True)\n",
            "/usr/local/lib/python3.7/dist-packages/sklearn/utils/validation.py:993: DataConversionWarning: A column-vector y was passed when a 1d array was expected. Please change the shape of y to (n_samples, ), for example using ravel().\n",
            "  y = column_or_1d(y, warn=True)\n",
            "/usr/local/lib/python3.7/dist-packages/sklearn/utils/validation.py:993: DataConversionWarning: A column-vector y was passed when a 1d array was expected. Please change the shape of y to (n_samples, ), for example using ravel().\n",
            "  y = column_or_1d(y, warn=True)\n",
            "/usr/local/lib/python3.7/dist-packages/sklearn/utils/validation.py:993: DataConversionWarning: A column-vector y was passed when a 1d array was expected. Please change the shape of y to (n_samples, ), for example using ravel().\n",
            "  y = column_or_1d(y, warn=True)\n",
            "/usr/local/lib/python3.7/dist-packages/sklearn/utils/validation.py:993: DataConversionWarning: A column-vector y was passed when a 1d array was expected. Please change the shape of y to (n_samples, ), for example using ravel().\n",
            "  y = column_or_1d(y, warn=True)\n",
            "/usr/local/lib/python3.7/dist-packages/sklearn/utils/validation.py:993: DataConversionWarning: A column-vector y was passed when a 1d array was expected. Please change the shape of y to (n_samples, ), for example using ravel().\n",
            "  y = column_or_1d(y, warn=True)\n",
            "/usr/local/lib/python3.7/dist-packages/sklearn/utils/validation.py:993: DataConversionWarning: A column-vector y was passed when a 1d array was expected. Please change the shape of y to (n_samples, ), for example using ravel().\n",
            "  y = column_or_1d(y, warn=True)\n",
            "/usr/local/lib/python3.7/dist-packages/sklearn/utils/validation.py:993: DataConversionWarning: A column-vector y was passed when a 1d array was expected. Please change the shape of y to (n_samples, ), for example using ravel().\n",
            "  y = column_or_1d(y, warn=True)\n",
            "/usr/local/lib/python3.7/dist-packages/sklearn/utils/validation.py:993: DataConversionWarning: A column-vector y was passed when a 1d array was expected. Please change the shape of y to (n_samples, ), for example using ravel().\n",
            "  y = column_or_1d(y, warn=True)\n",
            "/usr/local/lib/python3.7/dist-packages/sklearn/utils/validation.py:993: DataConversionWarning: A column-vector y was passed when a 1d array was expected. Please change the shape of y to (n_samples, ), for example using ravel().\n",
            "  y = column_or_1d(y, warn=True)\n",
            "/usr/local/lib/python3.7/dist-packages/sklearn/utils/validation.py:993: DataConversionWarning: A column-vector y was passed when a 1d array was expected. Please change the shape of y to (n_samples, ), for example using ravel().\n",
            "  y = column_or_1d(y, warn=True)\n",
            "/usr/local/lib/python3.7/dist-packages/sklearn/utils/validation.py:993: DataConversionWarning: A column-vector y was passed when a 1d array was expected. Please change the shape of y to (n_samples, ), for example using ravel().\n",
            "  y = column_or_1d(y, warn=True)\n",
            "/usr/local/lib/python3.7/dist-packages/sklearn/utils/validation.py:993: DataConversionWarning: A column-vector y was passed when a 1d array was expected. Please change the shape of y to (n_samples, ), for example using ravel().\n",
            "  y = column_or_1d(y, warn=True)\n"
          ]
        },
        {
          "name": "stdout",
          "output_type": "stream",
          "text": [
            "\n",
            "\n",
            "\n",
            "Best AdaBoost model score:  0.709742801230081\n",
            "\n",
            "\n",
            "\n"
          ]
        },
        {
          "data": {
            "text/plain": [
              "{'ada': AdaBoostClassifier(base_estimator=DecisionTreeClassifier(), n_estimators=15),\n",
              " 'ada__algorithm': 'SAMME.R',\n",
              " 'ada__base_estimator': DecisionTreeClassifier(),\n",
              " 'ada__base_estimator__ccp_alpha': 0.0,\n",
              " 'ada__base_estimator__class_weight': None,\n",
              " 'ada__base_estimator__criterion': 'gini',\n",
              " 'ada__base_estimator__max_depth': None,\n",
              " 'ada__base_estimator__max_features': None,\n",
              " 'ada__base_estimator__max_leaf_nodes': None,\n",
              " 'ada__base_estimator__min_impurity_decrease': 0.0,\n",
              " 'ada__base_estimator__min_samples_leaf': 1,\n",
              " 'ada__base_estimator__min_samples_split': 2,\n",
              " 'ada__base_estimator__min_weight_fraction_leaf': 0.0,\n",
              " 'ada__base_estimator__random_state': None,\n",
              " 'ada__base_estimator__splitter': 'best',\n",
              " 'ada__learning_rate': 1.0,\n",
              " 'ada__n_estimators': 15,\n",
              " 'ada__random_state': None,\n",
              " 'memory': None,\n",
              " 'steps': [('ada',\n",
              "   AdaBoostClassifier(base_estimator=DecisionTreeClassifier(), n_estimators=15))],\n",
              " 'verbose': False}"
            ]
          },
          "execution_count": 7,
          "metadata": {},
          "output_type": "execute_result"
        }
      ],
      "source": [
        "from sklearn.ensemble import AdaBoostClassifier\n",
        "\n",
        "\n",
        "\n",
        "ada = AdaBoostClassifier(tree.DecisionTreeClassifier()) #, max_samples=0.5, n_estimators=100)\n",
        "\n",
        "#ada = AdaBoostClassifier(clf, n_estimators=10, learning_rate=0.1)\n",
        "\n",
        "ADA = Pipeline([\n",
        "               ('ada', ada)])\n",
        "\n",
        "\n",
        "parameters = {'ada__n_estimators': [5, 10, 15]}\n",
        "\n",
        "grid_ADA = GridSearchCV(ADA, parameters, verbose=0, return_train_score=True)\n",
        "grid_ADA = grid_ADA.fit(X_train, y_train)\n",
        "\n",
        "print(\"\\n\\n\")\n",
        "print(\"Best AdaBoost model score: \", grid_ADA.score(X_test, y_test))\n",
        "print(\"\\n\\n\")\n",
        "grid_ADA.best_estimator_.get_params()"
      ]
    },
    {
      "cell_type": "code",
      "execution_count": null,
      "metadata": {
        "colab": {
          "background_save": true,
          "base_uri": "https://localhost:8080/"
        },
        "id": "7ZNyO9I3F61P",
        "outputId": "63588303-343a-477e-fd47-217913e25ab9"
      },
      "outputs": [
        {
          "name": "stderr",
          "output_type": "stream",
          "text": [
            "/usr/local/lib/python3.7/dist-packages/sklearn/ensemble/_gb.py:494: DataConversionWarning: A column-vector y was passed when a 1d array was expected. Please change the shape of y to (n_samples, ), for example using ravel().\n",
            "  y = column_or_1d(y, warn=True)\n",
            "/usr/local/lib/python3.7/dist-packages/sklearn/ensemble/_gb.py:494: DataConversionWarning: A column-vector y was passed when a 1d array was expected. Please change the shape of y to (n_samples, ), for example using ravel().\n",
            "  y = column_or_1d(y, warn=True)\n",
            "/usr/local/lib/python3.7/dist-packages/sklearn/ensemble/_gb.py:494: DataConversionWarning: A column-vector y was passed when a 1d array was expected. Please change the shape of y to (n_samples, ), for example using ravel().\n",
            "  y = column_or_1d(y, warn=True)\n",
            "/usr/local/lib/python3.7/dist-packages/sklearn/ensemble/_gb.py:494: DataConversionWarning: A column-vector y was passed when a 1d array was expected. Please change the shape of y to (n_samples, ), for example using ravel().\n",
            "  y = column_or_1d(y, warn=True)\n",
            "/usr/local/lib/python3.7/dist-packages/sklearn/ensemble/_gb.py:494: DataConversionWarning: A column-vector y was passed when a 1d array was expected. Please change the shape of y to (n_samples, ), for example using ravel().\n",
            "  y = column_or_1d(y, warn=True)\n",
            "/usr/local/lib/python3.7/dist-packages/sklearn/ensemble/_gb.py:494: DataConversionWarning: A column-vector y was passed when a 1d array was expected. Please change the shape of y to (n_samples, ), for example using ravel().\n",
            "  y = column_or_1d(y, warn=True)\n",
            "/usr/local/lib/python3.7/dist-packages/sklearn/ensemble/_gb.py:494: DataConversionWarning: A column-vector y was passed when a 1d array was expected. Please change the shape of y to (n_samples, ), for example using ravel().\n",
            "  y = column_or_1d(y, warn=True)\n",
            "/usr/local/lib/python3.7/dist-packages/sklearn/ensemble/_gb.py:494: DataConversionWarning: A column-vector y was passed when a 1d array was expected. Please change the shape of y to (n_samples, ), for example using ravel().\n",
            "  y = column_or_1d(y, warn=True)\n",
            "/usr/local/lib/python3.7/dist-packages/sklearn/ensemble/_gb.py:494: DataConversionWarning: A column-vector y was passed when a 1d array was expected. Please change the shape of y to (n_samples, ), for example using ravel().\n",
            "  y = column_or_1d(y, warn=True)\n",
            "/usr/local/lib/python3.7/dist-packages/sklearn/ensemble/_gb.py:494: DataConversionWarning: A column-vector y was passed when a 1d array was expected. Please change the shape of y to (n_samples, ), for example using ravel().\n",
            "  y = column_or_1d(y, warn=True)\n",
            "/usr/local/lib/python3.7/dist-packages/sklearn/ensemble/_gb.py:494: DataConversionWarning: A column-vector y was passed when a 1d array was expected. Please change the shape of y to (n_samples, ), for example using ravel().\n",
            "  y = column_or_1d(y, warn=True)\n",
            "/usr/local/lib/python3.7/dist-packages/sklearn/ensemble/_gb.py:494: DataConversionWarning: A column-vector y was passed when a 1d array was expected. Please change the shape of y to (n_samples, ), for example using ravel().\n",
            "  y = column_or_1d(y, warn=True)\n",
            "/usr/local/lib/python3.7/dist-packages/sklearn/ensemble/_gb.py:494: DataConversionWarning: A column-vector y was passed when a 1d array was expected. Please change the shape of y to (n_samples, ), for example using ravel().\n",
            "  y = column_or_1d(y, warn=True)\n",
            "/usr/local/lib/python3.7/dist-packages/sklearn/ensemble/_gb.py:494: DataConversionWarning: A column-vector y was passed when a 1d array was expected. Please change the shape of y to (n_samples, ), for example using ravel().\n",
            "  y = column_or_1d(y, warn=True)\n",
            "/usr/local/lib/python3.7/dist-packages/sklearn/ensemble/_gb.py:494: DataConversionWarning: A column-vector y was passed when a 1d array was expected. Please change the shape of y to (n_samples, ), for example using ravel().\n",
            "  y = column_or_1d(y, warn=True)\n",
            "/usr/local/lib/python3.7/dist-packages/sklearn/ensemble/_gb.py:494: DataConversionWarning: A column-vector y was passed when a 1d array was expected. Please change the shape of y to (n_samples, ), for example using ravel().\n",
            "  y = column_or_1d(y, warn=True)\n"
          ]
        },
        {
          "name": "stdout",
          "output_type": "stream",
          "text": [
            "\n",
            "\n",
            "\n",
            "Best AdaBoost model score:  0.7002376292982947\n",
            "\n",
            "\n",
            "\n"
          ]
        },
        {
          "data": {
            "text/plain": [
              "{'gbc': GradientBoostingClassifier(n_estimators=15),\n",
              " 'gbc__ccp_alpha': 0.0,\n",
              " 'gbc__criterion': 'friedman_mse',\n",
              " 'gbc__init': None,\n",
              " 'gbc__learning_rate': 0.1,\n",
              " 'gbc__loss': 'deviance',\n",
              " 'gbc__max_depth': 3,\n",
              " 'gbc__max_features': None,\n",
              " 'gbc__max_leaf_nodes': None,\n",
              " 'gbc__min_impurity_decrease': 0.0,\n",
              " 'gbc__min_samples_leaf': 1,\n",
              " 'gbc__min_samples_split': 2,\n",
              " 'gbc__min_weight_fraction_leaf': 0.0,\n",
              " 'gbc__n_estimators': 15,\n",
              " 'gbc__n_iter_no_change': None,\n",
              " 'gbc__random_state': None,\n",
              " 'gbc__subsample': 1.0,\n",
              " 'gbc__tol': 0.0001,\n",
              " 'gbc__validation_fraction': 0.1,\n",
              " 'gbc__verbose': 0,\n",
              " 'gbc__warm_start': False,\n",
              " 'memory': None,\n",
              " 'steps': [('gbc', GradientBoostingClassifier(n_estimators=15))],\n",
              " 'verbose': False}"
            ]
          },
          "execution_count": null,
          "metadata": {},
          "output_type": "execute_result"
        }
      ],
      "source": [
        "from sklearn.ensemble import GradientBoostingClassifier\n",
        "\n",
        "\n",
        "GBC = Pipeline([\n",
        "               ('gbc', GradientBoostingClassifier())])\n",
        "\n",
        "\n",
        "parameters = {'gbc__n_estimators': [5, 10, 15]}\n",
        "\n",
        "grid_GBC = GridSearchCV(GBC, parameters, verbose=0, return_train_score=True)\n",
        "grid_GBC = grid_GBC.fit(X_train, y_train)\n",
        "\n",
        "print(\"\\n\\n\")\n",
        "print(\"Best AdaBoost model score: \", grid_GBC.score(X_test, y_test))\n",
        "print(\"\\n\\n\")\n",
        "grid_GBC.best_estimator_.get_params()"
      ]
    },
    {
      "cell_type": "code",
      "execution_count": null,
      "metadata": {
        "id": "5bQHf183F633"
      },
      "outputs": [],
      "source": [
        ""
      ]
    },
    {
      "cell_type": "code",
      "execution_count": null,
      "metadata": {
        "id": "ZQnRGCbjF66f"
      },
      "outputs": [],
      "source": [
        ""
      ]
    },
    {
      "cell_type": "code",
      "execution_count": null,
      "metadata": {
        "id": "0IRY-ULJF684"
      },
      "outputs": [],
      "source": [
        ""
      ]
    },
    {
      "cell_type": "code",
      "execution_count": null,
      "metadata": {
        "id": "rM9qx45bF6_b"
      },
      "outputs": [],
      "source": [
        ""
      ]
    },
    {
      "cell_type": "code",
      "execution_count": null,
      "metadata": {
        "id": "YV1YnsVZF7CL"
      },
      "outputs": [],
      "source": [
        ""
      ]
    },
    {
      "cell_type": "code",
      "execution_count": null,
      "metadata": {
        "id": "Og--ZMTiAXI4"
      },
      "outputs": [],
      "source": [
        "\n"
      ]
    }
  ],
  "metadata": {
    "colab": {
      "name": "Copie de cyberbully.ipynb",
      "provenance": []
    },
    "interpreter": {
      "hash": "07429fcb4c504a0378980367d3c7fce80391802e4a36d1633a5a7bb6cd53a327"
    },
    "kernelspec": {
      "display_name": "Python 3.8.8 ('base')",
      "language": "python",
      "name": "python3"
    },
    "language_info": {
      "codemirror_mode": {
        "name": "ipython",
        "version": 3
      },
      "file_extension": ".py",
      "mimetype": "text/x-python",
      "name": "python",
      "nbconvert_exporter": "python",
      "pygments_lexer": "ipython3",
      "version": "3.8.8"
    }
  },
  "nbformat": 4,
  "nbformat_minor": 0
}